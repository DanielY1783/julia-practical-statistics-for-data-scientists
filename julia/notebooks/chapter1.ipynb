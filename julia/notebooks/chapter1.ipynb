{
 "cells": [
  {
   "cell_type": "markdown",
   "metadata": {},
   "source": [
    "# Chapter 1: Exploratory Data Analysis"
   ]
  },
  {
   "cell_type": "code",
   "execution_count": 6,
   "metadata": {
    "scrolled": true
   },
   "outputs": [
    {
     "name": "stderr",
     "output_type": "stream",
     "text": [
      "┌ Info: Precompiling CSV [336ed68f-0bac-5ca0-87d4-7b16caf5d00b]\n",
      "└ @ Base loading.jl:1278\n"
     ]
    }
   ],
   "source": [
    "# Imports\n",
    "using DataFrames\n",
    "using CSV"
   ]
  },
  {
   "cell_type": "code",
   "execution_count": 4,
   "metadata": {},
   "outputs": [],
   "source": [
    "# Constants\n",
    "STATE_CSV = \"../../data/state.csv\";"
   ]
  },
  {
   "cell_type": "markdown",
   "metadata": {},
   "source": [
    "## Estimates of Location"
   ]
  },
  {
   "cell_type": "code",
   "execution_count": 10,
   "metadata": {},
   "outputs": [
    {
     "data": {
      "text/html": [
       "<table class=\"data-frame\"><thead><tr><th></th><th>State</th><th>Population</th><th>Murder.Rate</th><th>Abbreviation</th></tr><tr><th></th><th>String</th><th>Int64</th><th>Float64</th><th>String</th></tr></thead><tbody><p>50 rows × 4 columns</p><tr><th>1</th><td>Alabama</td><td>4779736</td><td>5.7</td><td>AL</td></tr><tr><th>2</th><td>Alaska</td><td>710231</td><td>5.6</td><td>AK</td></tr><tr><th>3</th><td>Arizona</td><td>6392017</td><td>4.7</td><td>AZ</td></tr><tr><th>4</th><td>Arkansas</td><td>2915918</td><td>5.6</td><td>AR</td></tr><tr><th>5</th><td>California</td><td>37253956</td><td>4.4</td><td>CA</td></tr><tr><th>6</th><td>Colorado</td><td>5029196</td><td>2.8</td><td>CO</td></tr><tr><th>7</th><td>Connecticut</td><td>3574097</td><td>2.4</td><td>CT</td></tr><tr><th>8</th><td>Delaware</td><td>897934</td><td>5.8</td><td>DE</td></tr><tr><th>9</th><td>Florida</td><td>18801310</td><td>5.8</td><td>FL</td></tr><tr><th>10</th><td>Georgia</td><td>9687653</td><td>5.7</td><td>GA</td></tr><tr><th>11</th><td>Hawaii</td><td>1360301</td><td>1.8</td><td>HI</td></tr><tr><th>12</th><td>Idaho</td><td>1567582</td><td>2.0</td><td>ID</td></tr><tr><th>13</th><td>Illinois</td><td>12830632</td><td>5.3</td><td>IL</td></tr><tr><th>14</th><td>Indiana</td><td>6483802</td><td>5.0</td><td>IN</td></tr><tr><th>15</th><td>Iowa</td><td>3046355</td><td>1.9</td><td>IA</td></tr><tr><th>16</th><td>Kansas</td><td>2853118</td><td>3.1</td><td>KS</td></tr><tr><th>17</th><td>Kentucky</td><td>4339367</td><td>3.6</td><td>KY</td></tr><tr><th>18</th><td>Louisiana</td><td>4533372</td><td>10.3</td><td>LA</td></tr><tr><th>19</th><td>Maine</td><td>1328361</td><td>1.6</td><td>ME</td></tr><tr><th>20</th><td>Maryland</td><td>5773552</td><td>6.1</td><td>MD</td></tr><tr><th>21</th><td>Massachusetts</td><td>6547629</td><td>2.0</td><td>MA</td></tr><tr><th>22</th><td>Michigan</td><td>9883640</td><td>5.4</td><td>MI</td></tr><tr><th>23</th><td>Minnesota</td><td>5303925</td><td>1.6</td><td>MN</td></tr><tr><th>24</th><td>Mississippi</td><td>2967297</td><td>8.6</td><td>MS</td></tr><tr><th>25</th><td>Missouri</td><td>5988927</td><td>6.6</td><td>MO</td></tr><tr><th>26</th><td>Montana</td><td>989415</td><td>3.6</td><td>MT</td></tr><tr><th>27</th><td>Nebraska</td><td>1826341</td><td>2.9</td><td>NE</td></tr><tr><th>28</th><td>Nevada</td><td>2700551</td><td>6.0</td><td>NV</td></tr><tr><th>29</th><td>New Hampshire</td><td>1316470</td><td>0.9</td><td>NH</td></tr><tr><th>30</th><td>New Jersey</td><td>8791894</td><td>3.9</td><td>NJ</td></tr><tr><th>&vellip;</th><td>&vellip;</td><td>&vellip;</td><td>&vellip;</td><td>&vellip;</td></tr></tbody></table>"
      ],
      "text/latex": [
       "\\begin{tabular}{r|cccc}\n",
       "\t& State & Population & Murder.Rate & Abbreviation\\\\\n",
       "\t\\hline\n",
       "\t& String & Int64 & Float64 & String\\\\\n",
       "\t\\hline\n",
       "\t1 & Alabama & 4779736 & 5.7 & AL \\\\\n",
       "\t2 & Alaska & 710231 & 5.6 & AK \\\\\n",
       "\t3 & Arizona & 6392017 & 4.7 & AZ \\\\\n",
       "\t4 & Arkansas & 2915918 & 5.6 & AR \\\\\n",
       "\t5 & California & 37253956 & 4.4 & CA \\\\\n",
       "\t6 & Colorado & 5029196 & 2.8 & CO \\\\\n",
       "\t7 & Connecticut & 3574097 & 2.4 & CT \\\\\n",
       "\t8 & Delaware & 897934 & 5.8 & DE \\\\\n",
       "\t9 & Florida & 18801310 & 5.8 & FL \\\\\n",
       "\t10 & Georgia & 9687653 & 5.7 & GA \\\\\n",
       "\t11 & Hawaii & 1360301 & 1.8 & HI \\\\\n",
       "\t12 & Idaho & 1567582 & 2.0 & ID \\\\\n",
       "\t13 & Illinois & 12830632 & 5.3 & IL \\\\\n",
       "\t14 & Indiana & 6483802 & 5.0 & IN \\\\\n",
       "\t15 & Iowa & 3046355 & 1.9 & IA \\\\\n",
       "\t16 & Kansas & 2853118 & 3.1 & KS \\\\\n",
       "\t17 & Kentucky & 4339367 & 3.6 & KY \\\\\n",
       "\t18 & Louisiana & 4533372 & 10.3 & LA \\\\\n",
       "\t19 & Maine & 1328361 & 1.6 & ME \\\\\n",
       "\t20 & Maryland & 5773552 & 6.1 & MD \\\\\n",
       "\t21 & Massachusetts & 6547629 & 2.0 & MA \\\\\n",
       "\t22 & Michigan & 9883640 & 5.4 & MI \\\\\n",
       "\t23 & Minnesota & 5303925 & 1.6 & MN \\\\\n",
       "\t24 & Mississippi & 2967297 & 8.6 & MS \\\\\n",
       "\t25 & Missouri & 5988927 & 6.6 & MO \\\\\n",
       "\t26 & Montana & 989415 & 3.6 & MT \\\\\n",
       "\t27 & Nebraska & 1826341 & 2.9 & NE \\\\\n",
       "\t28 & Nevada & 2700551 & 6.0 & NV \\\\\n",
       "\t29 & New Hampshire & 1316470 & 0.9 & NH \\\\\n",
       "\t30 & New Jersey & 8791894 & 3.9 & NJ \\\\\n",
       "\t$\\dots$ & $\\dots$ & $\\dots$ & $\\dots$ & $\\dots$ \\\\\n",
       "\\end{tabular}\n"
      ],
      "text/plain": [
       "50×4 DataFrame\n",
       "│ Row │ State          │ Population │ Murder.Rate │ Abbreviation │\n",
       "│     │ \u001b[90mString\u001b[39m         │ \u001b[90mInt64\u001b[39m      │ \u001b[90mFloat64\u001b[39m     │ \u001b[90mString\u001b[39m       │\n",
       "├─────┼────────────────┼────────────┼─────────────┼──────────────┤\n",
       "│ 1   │ Alabama        │ 4779736    │ 5.7         │ AL           │\n",
       "│ 2   │ Alaska         │ 710231     │ 5.6         │ AK           │\n",
       "│ 3   │ Arizona        │ 6392017    │ 4.7         │ AZ           │\n",
       "│ 4   │ Arkansas       │ 2915918    │ 5.6         │ AR           │\n",
       "│ 5   │ California     │ 37253956   │ 4.4         │ CA           │\n",
       "│ 6   │ Colorado       │ 5029196    │ 2.8         │ CO           │\n",
       "│ 7   │ Connecticut    │ 3574097    │ 2.4         │ CT           │\n",
       "│ 8   │ Delaware       │ 897934     │ 5.8         │ DE           │\n",
       "│ 9   │ Florida        │ 18801310   │ 5.8         │ FL           │\n",
       "│ 10  │ Georgia        │ 9687653    │ 5.7         │ GA           │\n",
       "⋮\n",
       "│ 40  │ South Carolina │ 4625364    │ 6.4         │ SC           │\n",
       "│ 41  │ South Dakota   │ 814180     │ 2.3         │ SD           │\n",
       "│ 42  │ Tennessee      │ 6346105    │ 5.7         │ TN           │\n",
       "│ 43  │ Texas          │ 25145561   │ 4.4         │ TX           │\n",
       "│ 44  │ Utah           │ 2763885    │ 2.3         │ UT           │\n",
       "│ 45  │ Vermont        │ 625741     │ 1.6         │ VT           │\n",
       "│ 46  │ Virginia       │ 8001024    │ 4.1         │ VA           │\n",
       "│ 47  │ Washington     │ 6724540    │ 2.5         │ WA           │\n",
       "│ 48  │ West Virginia  │ 1852994    │ 4.0         │ WV           │\n",
       "│ 49  │ Wisconsin      │ 5686986    │ 2.9         │ WI           │\n",
       "│ 50  │ Wyoming        │ 563626     │ 2.7         │ WY           │"
      ]
     },
     "execution_count": 10,
     "metadata": {},
     "output_type": "execute_result"
    }
   ],
   "source": [
    "# Read in dataframe\n",
    "state_df = CSV.read(STATE_CSV)"
   ]
  },
  {
   "cell_type": "code",
   "execution_count": 9,
   "metadata": {},
   "outputs": [
    {
     "data": {
      "text/plain": [
       "50-element Array{String,1}:\n",
       " \"Alabama\"\n",
       " \"Alaska\"\n",
       " \"Arizona\"\n",
       " \"Arkansas\"\n",
       " \"California\"\n",
       " \"Colorado\"\n",
       " \"Connecticut\"\n",
       " \"Delaware\"\n",
       " \"Florida\"\n",
       " \"Georgia\"\n",
       " \"Hawaii\"\n",
       " \"Idaho\"\n",
       " \"Illinois\"\n",
       " ⋮\n",
       " \"Rhode Island\"\n",
       " \"South Carolina\"\n",
       " \"South Dakota\"\n",
       " \"Tennessee\"\n",
       " \"Texas\"\n",
       " \"Utah\"\n",
       " \"Vermont\"\n",
       " \"Virginia\"\n",
       " \"Washington\"\n",
       " \"West Virginia\"\n",
       " \"Wisconsin\"\n",
       " \"Wyoming\""
      ]
     },
     "execution_count": 9,
     "metadata": {},
     "output_type": "execute_result"
    }
   ],
   "source": [
    "state_df[\"State\"]"
   ]
  },
  {
   "cell_type": "code",
   "execution_count": null,
   "metadata": {},
   "outputs": [],
   "source": []
  }
 ],
 "metadata": {
  "kernelspec": {
   "display_name": "Julia 1.5.2",
   "language": "julia",
   "name": "julia-1.5"
  },
  "language_info": {
   "file_extension": ".jl",
   "mimetype": "application/julia",
   "name": "julia",
   "version": "1.5.2"
  }
 },
 "nbformat": 4,
 "nbformat_minor": 4
}
